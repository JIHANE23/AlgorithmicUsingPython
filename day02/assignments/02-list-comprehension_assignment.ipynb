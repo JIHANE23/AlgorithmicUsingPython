{
 "cells": [
  {
   "cell_type": "markdown",
   "metadata": {},
   "source": [
    "# List Comprehension exercises"
   ]
  },
  {
   "cell_type": "code",
   "execution_count": 1,
   "metadata": {},
   "outputs": [],
   "source": [
    "fruits = ['mango', 'kiwi', 'strawberry', 'guava', 'pineapple', 'mandarin orange']\n",
    "\n",
    "numbers = [2, 3, 4, 5, 6, 7, 8, 9, 10, 11, 13, 17, 19, 23, 256, -8, -4, -2, 5, -9]\n",
    "\n",
    "# Example for loop solution to add 1 to each number in the list\n",
    "numbers_plus_one = []\n",
    "for number in numbers:\n",
    "    numbers_plus_one.append(number + 1)\n",
    "\n",
    "# Example of using a list comprehension to create a list of the numbers plus one.\n",
    "numbers_plus_one = [number + 1 for number in numbers]\n",
    "\n",
    "# Example code that creates a list of all of the list of strings in fruits and uppercases every string\n",
    "output = []\n",
    "for fruit in fruits:\n",
    "    output.append(fruit.upper())"
   ]
  },
  {
   "cell_type": "markdown",
   "metadata": {},
   "source": [
    "## Exercise 1 \n",
    "\n",
    "Rewrite the above example code using list comprehension syntax. Make a variable `named uppercased_fruits` to hold the output of the list comprehension. \n",
    "- Desired output:\n",
    "```python\n",
    ">>> ['MANGO', 'KIWI', ...]\n",
    "```"
   ]
  },
  {
   "cell_type": "code",
   "execution_count": 1,
   "metadata": {},
   "outputs": [
    {
     "name": "stdout",
     "output_type": "stream",
     "text": [
      "['MANGO', 'KIWI', 'STRAWBERRY', 'GUAVA', 'PINEAPPLE', 'MANDARIN ORANGE']\n"
     ]
    }
   ],
   "source": [
    "fruits = ['mango', 'kiwi', 'strawberry', 'guava', 'pineapple', 'mandarin orange']\n",
    "\n",
    "output=[fruit.upper() for fruit in fruits]\n",
    "print(output)\n",
    "\n"
   ]
  },
  {
   "cell_type": "markdown",
   "metadata": {},
   "source": [
    "## Exercise 2 \n",
    "\n",
    "Create a variable named `capitalized_fruits` and use list comprehension syntax to produce \n",
    "- Desired output: \n",
    "```python\n",
    ">>> ['Mango', 'Kiwi', 'Strawberry', ...]\n",
    "```"
   ]
  },
  {
   "cell_type": "code",
   "execution_count": 2,
   "metadata": {},
   "outputs": [
    {
     "name": "stdout",
     "output_type": "stream",
     "text": [
      "['Mango', 'Kiwi', 'Strawberry', 'Guava', 'Pineapple', 'Mandarin orange']\n"
     ]
    }
   ],
   "source": [
    "capitalized_fruits=['mango', 'kiwi', 'strawberry', 'guava', 'pineapple', 'mandarin orange']\n",
    "op=[i.capitalize() for i in capitalized_fruits]\n",
    "print(op)"
   ]
  },
  {
   "cell_type": "markdown",
   "metadata": {},
   "source": [
    "## Exercise 3\n",
    "\n",
    "Make a list that contains each fruit with exactly 5 characters"
   ]
  },
  {
   "cell_type": "code",
   "execution_count": 10,
   "metadata": {},
   "outputs": [
    {
     "name": "stdout",
     "output_type": "stream",
     "text": [
      "['mango', 'guava']\n"
     ]
    }
   ],
   "source": [
    "fruits=['mango', 'kiwi', 'strawberry', 'guava', 'pineapple', 'mandarin orange']\n",
    "g=[i for i in fruits if len(i)==5]\n",
    "print(g)\n",
    " \n"
   ]
  },
  {
   "cell_type": "markdown",
   "metadata": {},
   "source": [
    "## Exercise 4\n",
    "\n",
    "Make a list containing the number of characters in each fruit. \n",
    "- Desired output\n",
    "```python \n",
    ">>> [5, 4, 10, ... ]\n",
    "```"
   ]
  },
  {
   "cell_type": "code",
   "execution_count": 54,
   "metadata": {},
   "outputs": [
    {
     "name": "stdout",
     "output_type": "stream",
     "text": [
      "[5, 4, 10, 5, 9, 15]\n"
     ]
    }
   ],
   "source": [
    "fruits=['mango', 'kiwi', 'strawberry', 'guava', 'pineapple', 'mandarin orange']\n",
    " \n",
    "\n",
    "k=[len(j) for j in fruits  ]\n",
    "print(k)\n"
   ]
  },
  {
   "cell_type": "markdown",
   "metadata": {},
   "source": [
    "## Exercise 5\n",
    "\n",
    "Make a variable named `odd_negative_numbers` that contains only the numbers that are both odd and negative.\n",
    "- Input:\n",
    "```python\n",
    "import numpy as np\n",
    "np.random.seed(10)\n",
    ">>> arr = np.random.randint(low=-100, high=100, size=(50,))\n",
    "```\n",
    "- Desired output:\n",
    "```python\n",
    ">>> odd_negative_numbers\n",
    ">>> [-91, -85, -27, -67, -23, -87, -11, -35, -69, -43, -73, -7, -23]\n",
    "```"
   ]
  },
  {
   "cell_type": "code",
   "execution_count": 23,
   "metadata": {},
   "outputs": [
    {
     "name": "stdout",
     "output_type": "stream",
     "text": [
      "[-91, -85, -27, -67, -23, -87, -11, -35, -69, -43, -73, -7, -23]\n"
     ]
    }
   ],
   "source": [
    "import numpy as np\n",
    "np.random.seed(10)\n",
    "a=np.random.randint(low=-100, high=100 , size=(50,))\n",
    "odd_neg_num=[i for i in a if i%2==1 and i<0]\n",
    "\n",
    "print(odd_neg_num)"
   ]
  },
  {
   "cell_type": "markdown",
   "metadata": {},
   "source": [
    "## Exercise 6\n",
    "\n",
    "`if...else` With List Comprehension\n",
    "- Input:\n",
    "```python\n",
    ">>> list1 = range(10)\n",
    "```\n",
    "- Desired output:\n",
    "```python\n",
    ">>> ['Even', 'Odd', 'Even', 'Odd', 'Even', 'Odd', 'Even', 'Odd', 'Even', 'Odd']\n",
    "```"
   ]
  },
  {
   "cell_type": "code",
   "execution_count": 57,
   "metadata": {},
   "outputs": [
    {
     "name": "stdout",
     "output_type": "stream",
     "text": [
      "['Even', 'Odd', 'Even', 'Odd', 'Even', 'Odd', 'Even', 'Odd', 'Even', 'Odd']\n"
     ]
    }
   ],
   "source": [
    "list1=range(10)\n",
    "\n",
    "\n",
    "l=['Even' if j%2==0 else 'Odd' for j in list1]\n",
    "print(l)\n",
    "\n"
   ]
  },
  {
   "cell_type": "markdown",
   "metadata": {},
   "source": [
    "## Exercise 7\n",
    "\n",
    "Compute the transpose of a Matrix using List Comprehension\n",
    "\n",
    "- Input:\n",
    "```python\n",
    ">>> matrix = [[1, 2], [3,4], [5,6], [7,8]]\n",
    "```\n",
    "- Desired output:\n",
    "```python\n",
    ">>> [[1, 3, 5, 7], [2, 4, 6, 8]]\n",
    "```"
   ]
  },
  {
   "cell_type": "markdown",
   "metadata": {},
   "source": [
    "##### import numpy as np(((\n",
    "matrix = [[1, 2], [3,4], [5,6], [7,8]]\n",
    "p=np.array(matrix)\n",
    "print(p)\n",
    "l=[[m[j][i] for j in range(len(m))] for i in range(len(m[0]))]\n",
    "l1=[numpy.transpose]\n",
    "print(l1)\n",
    "print(l)\n",
    "\n",
    "\n",
    "\n",
    "\n"
   ]
  },
  {
   "cell_type": "code",
   "execution_count": 46,
   "metadata": {},
   "outputs": [
    {
     "name": "stdout",
     "output_type": "stream",
     "text": [
      "[[1, 3, 5, 7], [2, 4, 6, 8]]\n"
     ]
    }
   ],
   "source": [
    "import numpy \n",
    "matrix=[[1, 2], [3,4], [5,6], [7,8]]\n",
    "l=[[row[i] for row in matrix] for i in range(2)]\n",
    "print(l)\n",
    "\n",
    "\n",
    "\n",
    "\n"
   ]
  },
  {
   "cell_type": "code",
   "execution_count": null,
   "metadata": {},
   "outputs": [],
   "source": []
  }
 ],
 "metadata": {
  "hide_input": false,
  "kernelspec": {
   "display_name": "Python 3 (ipykernel)",
   "language": "python",
   "name": "python3"
  },
  "language_info": {
   "codemirror_mode": {
    "name": "ipython",
    "version": 3
   },
   "file_extension": ".py",
   "mimetype": "text/x-python",
   "name": "python",
   "nbconvert_exporter": "python",
   "pygments_lexer": "ipython3",
   "version": "3.10.6"
  }
 },
 "nbformat": 4,
 "nbformat_minor": 4
}
