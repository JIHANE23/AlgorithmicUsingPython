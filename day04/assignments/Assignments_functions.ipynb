{
 "cells": [
  {
   "cell_type": "markdown",
   "metadata": {},
   "source": [
    "## Functions exercises "
   ]
  },
  {
   "cell_type": "markdown",
   "metadata": {},
   "source": [
    "### Exercise 1:\n",
    "\n",
    "1- Create a function `compute_power(x,y)` which return $x^y$ using the `**` operator.\n",
    "\n",
    "- Desired output:\n",
    "```Python\n",
    ">>> 2**2\n",
    "4\n",
    ">>> 2**3\n",
    "8\n",
    ">>> 2**4\n",
    "16\n",
    "```\n",
    "\n",
    "2- Compute the $2^i$ (i=0,...,20)."
   ]
  },
  {
   "cell_type": "code",
   "execution_count": 1,
   "metadata": {},
   "outputs": [
    {
     "name": "stdout",
     "output_type": "stream",
     "text": [
      "4\n"
     ]
    }
   ],
   "source": [
    "def compute_power(x,y):\n",
    "    a=x**y\n",
    "    return a\n",
    "print(compute_power(2,2))"
   ]
  },
  {
   "cell_type": "markdown",
   "metadata": {},
   "source": [
    "### Exercise 2:\n",
    "\n",
    "1- Create a function that draw a pyramid with N rows (N given by the user), as below:\n",
    "\n",
    "- Desired output:\n",
    "```Python\n",
    "          *\n",
    "         ***\n",
    "        *****\n",
    "       *******\n",
    "      *********\n",
    "     ***********\n",
    "    *************\n",
    "   ***************\n",
    "  *****************\n",
    "```"
   ]
  },
  {
   "cell_type": "code",
   "execution_count": 26,
   "metadata": {},
   "outputs": [
    {
     "name": "stdout",
     "output_type": "stream",
     "text": [
      "enter a desired number of rows: 6\n",
      "     * \n",
      "    * * \n",
      "   * * * \n",
      "  * * * * \n",
      " * * * * * \n",
      "* * * * * * \n"
     ]
    }
   ],
   "source": [
    "\n",
    "rows=int(input('enter a desired number of rows: '))\n",
    "for i in range(rows):\n",
    "    for j in range(rows-i-1):\n",
    "        print(\" \",end=\"\")\n",
    "    for j in range(i+1):\n",
    "        print(\"*\",end=\" \")\n",
    "    print()\n",
    "    \n",
    "    \n",
    "    \n",
    "    \n",
    "    \n",
    "    "
   ]
  },
  {
   "cell_type": "markdown",
   "metadata": {},
   "source": [
    "### Exercise 3:\n",
    "\n",
    "1- Create a function `compute_3D_distance()` which calculate the euclidean distance in 3D between two atoms.\n",
    "\n",
    "2- Test the function using the two vertices $A(0,0,0)$ et $B(1,1,1)$. Do you find $\\sqrt 3$ ?\n",
    "\n",
    "- The euclidean distance between two vertices $A(x_A,y_A,z_A)$ and $A(x_B,y_B,z_B)$ is: $\\sqrt{ \\left( x_B - x_A \\right)^{2} +  \\left( y_B - y_A \\right)^{2} +  \\left( z_B - z_A \\right)^{2}}$\n"
   ]
  },
  {
   "cell_type": "code",
   "execution_count": 3,
   "metadata": {},
   "outputs": [
    {
     "name": "stdout",
     "output_type": "stream",
     "text": [
      "1.7320508075688772\n"
     ]
    }
   ],
   "source": [
    "import math\n",
    "def compute_3D_distance(x1,x2,y1,y2,z1,z2):\n",
    "        A=(x1,y1,z1)\n",
    "        B=(x2,y2,z2)\n",
    "        print(math.sqrt((x2-x1)**2+(y2-y1)**2+(z2-z1)**2))\n",
    "        return A and B\n",
    "result=compute_3D_distance(0,1,0,1,0,1)\n",
    "\n",
    "    "
   ]
  },
  {
   "cell_type": "markdown",
   "metadata": {},
   "source": [
    "### Exercise 4:\n",
    "\n",
    "1- Write a function `x(n)` for computing an element in the sequence $x_n=n^2+1$. \n",
    "\n",
    "2- Call the function for $n=4$ and write out the result.\n"
   ]
  },
  {
   "cell_type": "code",
   "execution_count": 6,
   "metadata": {},
   "outputs": [
    {
     "name": "stdout",
     "output_type": "stream",
     "text": [
      "17\n"
     ]
    }
   ],
   "source": [
    "import math\n",
    "def x(n):\n",
    "    xn=n**2+1\n",
    "    return xn\n",
    "\n",
    "l=x(4)\n",
    "print(l)\n",
    "    \n",
    "        \n",
    "        \n",
    "    \n",
    "    "
   ]
  },
  {
   "cell_type": "markdown",
   "metadata": {},
   "source": [
    "### Exercise 5:\n",
    "\n",
    "1- Write a Python function that evaluates the mathematical functions $f(x)=cos(2x)$, $f^\\prime(x)=-2sin(2x)$, and $f\\prime\\prime(x)=-4cos(2x)$. \n",
    "\n",
    "2- Return these three values. Write out the results of these values for $x=\\pi$\n",
    "\n",
    "\n"
   ]
  },
  {
   "cell_type": "code",
   "execution_count": 25,
   "metadata": {
    "scrolled": true
   },
   "outputs": [
    {
     "name": "stdout",
     "output_type": "stream",
     "text": [
      "1.0 4.898587196589413e-16 -4.0\n"
     ]
    }
   ],
   "source": [
    "from numpy import cos , sin , pi\n",
    "import math\n",
    "from sympy import symbols,Eq\n",
    "def f(a):\n",
    "    \n",
    "    return cos(2*a), -2*sin(2*a) , -4*cos(2*a)\n",
    "x,b,c=f(pi)\n",
    "print(x,b,c)\n",
    "\n",
    "\n",
    "\n",
    "\n",
    "\n"
   ]
  },
  {
   "cell_type": "markdown",
   "metadata": {},
   "source": [
    "### Exercise 6:\n",
    "\n",
    "1- Write python function to solve $ax^2+bx+c=0$.  (a, b, c are given by the user).\n",
    "\n"
   ]
  },
  {
   "cell_type": "code",
   "execution_count": 24,
   "metadata": {},
   "outputs": [
    {
     "name": "stdout",
     "output_type": "stream",
     "text": [
      "4.0 -4.0\n",
      "13\n"
     ]
    }
   ],
   "source": [
    "import math\n",
    "def calculate(a,b,c):\n",
    "    solve=b**2 - 4*b*c\n",
    "    if solve > 0:\n",
    "        p=(-b+math.sqrt(solve))//2*a\n",
    "        l=(-b-+math.sqrt(solve))//2*a\n",
    "        print(p,l)\n",
    "    if solve ==0:\n",
    "        g=-b//2*a\n",
    "        print(g)\n",
    "    if solve<0:\n",
    "        print(\"there is no solution\")\n",
    "\n",
    "    return solve\n",
    "\n",
    "print(calculate(2,-1,3))\n",
    "\n",
    "\n",
    "\n"
   ]
  },
  {
   "cell_type": "markdown",
   "metadata": {},
   "source": [
    "### Exercise 7:\n",
    "\n",
    "- Monte Carlo methods are a broad class of computational algorithms that rely on repeated random sampling to obtain numerical results. \n",
    "- One of the basic examples of getting started with the Monte Carlo algorithm is the estimation of Pi.\n",
    "\n",
    "## Estimation of Pi\n",
    "- The idea is to simulate random (x, y) points in a 2-D plane with domain as a square of side 1 unit. \n",
    "- Imagine a circle inside the same domain with same diameter and inscribed into the square. \n",
    "- We then calculate the ratio of number points that lied inside the circle and total number of generated points. \n",
    "- Refer to the image below:\n",
    "\n",
    "![demo](figures/MonteCarloPlot.png)\n",
    "\n",
    "\n",
    "\n",
    "## The Algorithm\n",
    "\n",
    "1. Initialize circle_points, square_points and interval to 0.\n",
    "2. Generate random point x.\n",
    "3. Generate random point y.\n",
    "4. Calculate d = x*x + y*y.\n",
    "5. If d <= 1, increment circle_points.\n",
    "6. Increment square_points.\n",
    "7. Increment interval.\n",
    "8. If increment < NO_OF_ITERATIONS, repeat from 2.\n",
    "9. Calculate pi = 4*(circle_points/square_points).\n",
    "10. Terminate.\n",
    "\n"
   ]
  },
  {
   "cell_type": "code",
   "execution_count": 27,
   "metadata": {},
   "outputs": [
    {
     "name": "stdout",
     "output_type": "stream",
     "text": [
      "3.124\n"
     ]
    }
   ],
   "source": [
    " import random\n",
    "def circle_points(b):\n",
    "    a=0\n",
    "    for i in range(b):\n",
    "        x=random.uniform(-1,1)\n",
    "        y=random.uniform(-1,1)\n",
    "        if x**2+y**2<=1:\n",
    "            a+=1\n",
    "    value=4*a/b\n",
    "    return value\n",
    "print(circle_points(1000))\n",
    "\n",
    "        \n",
    "        "
   ]
  },
  {
   "cell_type": "code",
   "execution_count": 14,
   "metadata": {},
   "outputs": [
    {
     "name": "stdout",
     "output_type": "stream",
     "text": [
      "2.0\n"
     ]
    }
   ],
   "source": [
    " "
   ]
  },
  {
   "cell_type": "code",
   "execution_count": null,
   "metadata": {},
   "outputs": [],
   "source": []
  }
 ],
 "metadata": {
  "kernelspec": {
   "display_name": "Python 3 (ipykernel)",
   "language": "python",
   "name": "python3"
  },
  "language_info": {
   "codemirror_mode": {
    "name": "ipython",
    "version": 3
   },
   "file_extension": ".py",
   "mimetype": "text/x-python",
   "name": "python",
   "nbconvert_exporter": "python",
   "pygments_lexer": "ipython3",
   "version": "3.10.6"
  }
 },
 "nbformat": 4,
 "nbformat_minor": 4
}
