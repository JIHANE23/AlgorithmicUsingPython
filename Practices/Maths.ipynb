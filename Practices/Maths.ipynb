{
 "cells": [
  {
   "cell_type": "markdown",
   "metadata": {},
   "source": [
    "## Exercise 1: Hamming distance\n",
    "\n",
    "Write a `hamming()` function that calculates the Hamming distance between two words when they have the same length, and returns −1 otherwise.\n",
    "\n",
    "- Indication:\n",
    "\n",
    "    The Hamming distance between two vectors is simply the sum of corresponding elements that differ between the vectors.\n",
    "\n",
    "    - For example, suppose we have the following two vectors:\n",
    "    ```python\n",
    "    x = [1, 2, 3, 4]\n",
    "    y = [1, 2, 5, 7]\n",
    "    ```\n",
    "    - The Hamming distance between the two vectors would be 2, since this is the total number of corresponding elements that have different values.\n",
    "\n",
    "\n",
    "### "
   ]
  },
  {
   "cell_type": "code",
   "execution_count": 11,
   "metadata": {},
   "outputs": [
    {
     "name": "stdout",
     "output_type": "stream",
     "text": [
      "1\n"
     ]
    }
   ],
   "source": [
    "def calculate(l,h):\n",
    "    if len(l)!=len(h):\n",
    "        return -1\n",
    "    \n",
    "    if len(l)==len(h):\n",
    "        a=0\n",
    "        for i in range(len(l)):\n",
    "             \n",
    "            if l[i]!=h[i]:\n",
    "                a+=1\n",
    "        return a\n",
    "l = ['soy','sirius','rigel']\n",
    "h = ['soy','planet','rigel']\n",
    "g=calculate(l,h)\n",
    "print(g)\n",
    "\n",
    "    \n",
    "    \n",
    "                \n",
    "                    \n",
    "            \n",
    "        "
   ]
  },
  {
   "cell_type": "markdown",
   "metadata": {},
   "source": [
    "## Exercise 2: Syracuse sequence\n",
    "\n",
    "We define the Syracuse sequence ($u_n$) by $u_0$ $\\in$ $\\mathbb{N}$ and\n",
    "\n",
    "$$\n",
    "u_n + 1 = \\left\\{\n",
    "    \\begin{array}{ll}\n",
    "        \\frac{u_n}{2} \\mbox{ if $u_n$ is even} \\\\\n",
    "        3u_{n+1} \\mbox{ if $u_n$ is odd} \n",
    "    \\end{array}\n",
    "\\right.\n",
    "$$\n",
    "\n",
    "1. Write a `syracuse()` function which takes as input two integers $u_0$ and $n$ and returns $u_n$.\n",
    "2. Check that we always end up with cycle $4,2,1,4,2,1,\\dots$, for $0 \\leq u_0 \\leq 20$.\n",
    "3. Given u_0 $\\in$ $\\mathbb{N}$ denote $h$ the smallest of the integers $n$ such that $u_n = 1$ (we assume that such $h$ exists).\n",
    "    - Write a function `height()` which takes as input $u_0$ and calculates $h$.\n",
    "4. Calculate the couples ($u_0$, height($u_0$)) for $u_0 \\leq 100$."
   ]
  },
  {
   "cell_type": "code",
   "execution_count": 5,
   "metadata": {},
   "outputs": [
    {
     "name": "stdout",
     "output_type": "stream",
     "text": [
      "enter an integer: 12\n",
      "tha sequence entered in the cycle of 4,2,1\n",
      "[12, 6, 3, 10, 5, 16, 8, 4, 2, 1]\n"
     ]
    }
   ],
   "source": [
    "import math\n",
    "import numpy as np\n",
    "def suite(u):\n",
    "    a=[u]\n",
    "    while u!=1:\n",
    "        if u%2==0:\n",
    "            u=u//2\n",
    "            a.append(u)\n",
    "            \n",
    "        else:\n",
    "            u=u*3 + 1\n",
    "            a.append(u)\n",
    "        if a[-3:]==[4,2,1]:\n",
    "            print(\"the sequence entered in the cycle of 4,2,1\")\n",
    "            return a\n",
    "n=int(input(\"enter an integer: \"))        \n",
    "h=suite(n)\n",
    "print(h)  \n",
    " \n",
    "    \n",
    "    \n",
    "    \n",
    "\n",
    "    \n",
    "    \n",
    "\n",
    "    \n",
    "    "
   ]
  },
  {
   "cell_type": "markdown",
   "metadata": {},
   "source": [
    "## Exercise 3: \n",
    "\n",
    "We consider the application $\\sigma = \\mathbb{N^*} \\to \\mathbb{N^*}$ which associates with each integer $n$ the sum of the cubes of the digits of its writing in base 10. \n",
    "- For example, if $n = 123$ then $\\sigma(n) = 1^3 + 2^3 + 3^3 = 36$.\n",
    "\n",
    "1. Write a `sigma()` function that takes as input a non-zero integer $n$ and returns the sum of cubes of its digits in base 10.\n",
    "\n",
    "2. Find all integers $n \\leq 1000$ such that $\\sigma(n) = n$.\n",
    "\n",
    "3. Given $a \\in \\mathbb{N^*}$, we are interested in the sequence ($u_n(a)$) defined by $u_0(a) = a$ and $u_{n+1}(a) = \\sigma(u_n(a))$.\n",
    "\n",
    "4. For several values of a, display the first 20 terms of the sequence ($u_n(a)$).\n",
    "\n",
    "5. Show using the computer that for all $1 \\leq a \\leq 9999$ which is a multiple of 3 we have $u_{13}(a) = 153$."
   ]
  },
  {
   "cell_type": "code",
   "execution_count": 9,
   "metadata": {
    "scrolled": false
   },
   "outputs": [
    {
     "name": "stdout",
     "output_type": "stream",
     "text": [
      "[1, 2, 3, 4, 5, 6, 7, 8, 9]\n",
      "10\n"
     ]
    }
   ],
   "source": [
    "import math\n",
    "def sigma(n):\n",
    "    count=0\n",
    "    for i in str(n):\n",
    "        j=int(i)\n",
    "        count+=j\n",
    "    return count\n",
    "    for n in range(0,1000+1):\n",
    "        l=[]\n",
    "        if n==count:\n",
    "            l.append(n)\n",
    "            print(l)\n",
    "        return l\n",
    "op=[]\n",
    "for i in range(1,1000+1):\n",
    "    if i==sigma(i):\n",
    "        op.append(i)\n",
    "print(op)\n",
    "print(sigma(55))\n",
    "\n",
    "\n",
    "\n",
    "    \n",
    "    \n",
    "    \n",
    " \n",
    "        \n",
    "            \n",
    "        "
   ]
  },
  {
   "cell_type": "markdown",
   "metadata": {},
   "source": [
    "## Exercise 4: \n",
    "\n",
    "We call magic square of order n, any square matrix $M$ of order $n$ whose elements are the integers from 1 to $n^2$ arranged so that their sums on each line, on each column and on the two diagonals are equal. The common value of these sums is called the magic constant of $M$, and we have in fact $M = \\frac{n(n^2+1)}{2}$.\n",
    "\n",
    "1. Write a `permutation()` function that takes an array $T$ consisting of $n$ integers and decides if $T$ is a permutation of {1, 2, $\\dots$ , n}.\n",
    "    - We will first check if all the elements of $T$ are in {1, 2,$\\dots$, n}.\n",
    "    - Then we will check that no element of $T$ is repeated.\n",
    "    \n",
    "2. Write a function `magic_square()` which makes it possible to decide if a square matrix $M$ is a magic square.\n",
    "    - We will first start by checking if the array M.flatten() is a permutation of {1, 2, $\\dots$ , $n^2$}.\n",
    "    - We will then use slicing to check if the sums of rows, columns and the two diagonals are the same.\n",
    "    \n",
    "3. Using the `magic_square()` function find the magic squares of order 2."
   ]
  },
  {
   "cell_type": "code",
   "execution_count": null,
   "metadata": {},
   "outputs": [],
   "source": []
  },
  {
   "cell_type": "markdown",
   "metadata": {},
   "source": [
    "## Exercise 5:\n",
    "\n",
    "1. Randomly generate a matrix $M$ of real numbers. Then calculate the tables of means, variances and standard deviations of the lines of $M$.\n",
    "\n",
    "2. Doing a search, find numpy functions and methods to do the same job as in question 1. without using loops."
   ]
  },
  {
   "cell_type": "code",
   "execution_count": 1,
   "metadata": {},
   "outputs": [
    {
     "name": "stdout",
     "output_type": "stream",
     "text": [
      "[[5 5 5]\n",
      " [2 6 6]\n",
      " [6 6 1]]\n",
      "the tables of mean of each row:\n",
      "5.0\n",
      "4.666666666666667\n",
      "4.333333333333333\n",
      "the variances of each row:\n",
      "[0.0, 3.5555555555555554, 5.5555555555555545]\n",
      "the standard deviation of each row:\n",
      "[0.0, 1.8856180831641267, 2.357022603955158]\n",
      "[5.         4.66666667 4.33333333] [0.         3.55555556 5.55555556] [0.         1.88561808 2.3570226 ]\n"
     ]
    }
   ],
   "source": [
    "import math\n",
    "import numpy as np\n",
    "matrix=np.random.randint(1,8,(3,3))\n",
    "print(matrix)\n",
    "print(\"the tables of mean of each row:\")\n",
    "l=[]\n",
    "l1=[]\n",
    "for j in matrix :\n",
    "    me=sum(j)/len(j) \n",
    "    print(me)\n",
    "    variances = sum((i - me) ** 2 for i in j) / len(j)\n",
    "    l.append(variances)\n",
    "    l1.append(math.sqrt(variances))\n",
    "print(\"the variances of each row:\")\n",
    "print(l)\n",
    "print(\"the standard deviation of each row:\")\n",
    "print(l1)\n",
    "\n",
    "#with numpy\n",
    "\n",
    "means = np.mean(matrix, axis=1)\n",
    "var = np.var(matrix, axis=1)\n",
    "sta = np.std(matrix, axis=1)\n",
    "print(means,var,sta)\n",
    "\n",
    "\n",
    "    \n",
    "     \n",
    "    \n",
    "    \n",
    "    \n",
    "       \n",
    " \n",
    "\n",
    "        \n"
   ]
  },
  {
   "cell_type": "markdown",
   "metadata": {},
   "source": [
    "## Execise 6:\n",
    "\n",
    "A square matrix $M$ of order $n$ is said to be stochastic if all its coefficients are in [0,1] and the sum of the coefficients of each row of $M$ is equal to 1.\n",
    "\n",
    "1. Write a test function `stoch()` which verifies if a square matrix $M$ is stochastic.\n",
    "2. Write a function `stoch(n)` which allows to randomly generate a stochastic matrix of order $n$.\n",
    "3. Write a `sequence()` function which takes as input a stochastic matrix $M$ of order $n$ and a vector $V$ of size $n$ as well as an integer $d$ and displays the vectors\n",
    "\n",
    "$$\n",
    "V, M.V, M^2.V, \\dots , M^d.V\n",
    "$$\n",
    "\n",
    "- To calculate the product $M.V$ we use the `dot()` function by simply writing ```np.dot(M,V)```.\n",
    "\n",
    "4. For fixed $n$, for example 4, randomly generate a stochastic matrix $M$ of order $n$ and a vector of size $n$. Then test the function `sequence()` on $M$ and $V$ with several values of $d$. Repeat this experiment several times and draw a conclusion."
   ]
  },
  {
   "cell_type": "code",
   "execution_count": null,
   "metadata": {},
   "outputs": [],
   "source": [
    "# Your code here"
   ]
  }
 ],
 "metadata": {
  "kernelspec": {
   "display_name": "Python 3 (ipykernel)",
   "language": "python",
   "name": "python3"
  },
  "language_info": {
   "codemirror_mode": {
    "name": "ipython",
    "version": 3
   },
   "file_extension": ".py",
   "mimetype": "text/x-python",
   "name": "python",
   "nbconvert_exporter": "python",
   "pygments_lexer": "ipython3",
   "version": "3.10.6"
  }
 },
 "nbformat": 4,
 "nbformat_minor": 4
}
